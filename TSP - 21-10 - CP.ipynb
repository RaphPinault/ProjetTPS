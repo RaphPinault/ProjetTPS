{
 "cells": [
  {
   "cell_type": "markdown",
   "metadata": {},
   "source": [
    "### Projet TSP"
   ]
  },
  {
   "cell_type": "code",
   "execution_count": 7,
   "metadata": {},
   "outputs": [],
   "source": [
    "import numpy as np\n",
    "from scipy.spatial.distance import cdist\n",
    "import matplotlib.pyplot as plt"
   ]
  },
  {
   "cell_type": "code",
   "execution_count": 41,
   "metadata": {},
   "outputs": [],
   "source": [
    "class SolverTSP:\n",
    "    def __init__(self, position):\n",
    "        self.position = position\n",
    "        self.distance = cdist(position,position)\n",
    "    \n",
    "    def Cost(self):\n",
    "        Total_cost = np.sum(self.Solve()[1])\n",
    "        return(Total_cost)\n",
    "    \n",
    "    def Solve(self):\n",
    "        # permutation optimale\n",
    "        actuel = 0\n",
    "        ppv = [actuel] # prochain point de vente\n",
    "        cout = []\n",
    "        for i in range(0,nbville-1):\n",
    "            selection = min(np.delete(self.distance[ppv[-1]],ppv))\n",
    "            cout.append(selection)\n",
    "            ppv.append(np.where(self.distance[ppv[-1]] == selection)[0][0])\n",
    "        \n",
    "        return(ppv , cout)\n",
    "    \n",
    "    def dessine_tour(self):\n",
    "        permutations = self.Solve()[0]\n",
    "        fig, ax = plt.subplots(1, 1, figsize=(4, 4))\n",
    "        ax.plot(self.position[permutations, 0], self.position[permutations, 1], 'b-o') #trâce tous les (x, y) dans l'ordre des permutations\n",
    "        ax.plot([self.position[permutations[0], 0], self.position[permutations[-1], 0]],\n",
    "                [self.position[permutations[0], 1], self.position[permutations[-1], 1]], 'b-o') # ajoute la ligne entre la 1ère et dernière ligne\n",
    "        for i, txt in enumerate(range(0, len(self.position))):\n",
    "            ax.annotate(txt, (self.position[permutations[i], 0], self.position[permutations[i], 1]), textcoords=\"offset points\", xytext=(0, 10), ha='center')\n",
    "        return (ax)"
   ]
  },
  {
   "cell_type": "markdown",
   "metadata": {},
   "source": [
    "### Now we test our solution : "
   ]
  },
  {
   "cell_type": "code",
   "execution_count": 8,
   "metadata": {},
   "outputs": [
    {
     "name": "stdout",
     "output_type": "stream",
     "text": [
      "[[0.01019806 0.21974419]\n",
      " [0.09199778 0.15994461]\n",
      " [0.1755594  0.35095287]\n",
      " [0.5437653  0.7841765 ]\n",
      " [0.65151418 0.45234541]]\n"
     ]
    },
    {
     "data": {
      "image/png": "[encoded data removed]",
      "text/plain": [
       "<Figure size 432x288 with 1 Axes>"
      ]
     },
     "metadata": {
      "needs_background": "light"
     },
     "output_type": "display_data"
    }
   ],
   "source": [
    "nbville = 5\n",
    "position = np.random.uniform(0, 1, size=(nbville,2))\n",
    "print(position)\n",
    "\n",
    "plt.plot(position[:, 0], position[:, 1], 'o')\n",
    "for i, txt in enumerate(range(0, nbville)):\n",
    "    plt.annotate(txt, (position[i, 0], position[i, 1]), textcoords=\"offset points\", xytext=(0, 10), ha='center')"
   ]
  },
  {
   "cell_type": "code",
   "execution_count": 54,
   "metadata": {},
   "outputs": [
    {
     "name": "stdout",
     "output_type": "stream",
     "text": [
      "The matrix of distances is : [[0.         0.10132712 0.21109261 0.77670962 0.68219476]\n",
      " [0.10132712 0.         0.2084867  0.77055781 0.63131357]\n",
      " [0.21109261 0.2084867  0.         0.56855808 0.48663477]\n",
      " [0.77670962 0.77055781 0.56855808 0.         0.34888636]\n",
      " [0.68219476 0.63131357 0.48663477 0.34888636 0.        ]] \n",
      "\n",
      "The cities to visit are : [[0.01019806 0.21974419]\n",
      " [0.09199778 0.15994461]\n",
      " [0.1755594  0.35095287]\n",
      " [0.5437653  0.7841765 ]\n",
      " [0.65151418 0.45234541]] \n",
      "\n",
      "The sequence of the traveled cities is : [0, 1, 2, 4, 3] \n",
      "\n",
      "The total distance traveled is 1.145334936969267\n",
      "\n",
      "The drawing of the route is as follows : AxesSubplot(0.125,0.125;0.775x0.755) \n",
      "\n"
     ]
    },
    {
     "data": {
      "image/png": "[encoded data removed]",
      "text/plain": [
       "<Figure size 288x288 with 1 Axes>"
      ]
     },
     "metadata": {
      "needs_background": "light"
     },
     "output_type": "display_data"
    }
   ],
   "source": [
    "x = SolverTSP(position)\n",
    "\n",
    "print(f'The matrix of distances is : {x.distance} \\n')\n",
    "\n",
    "print(f'The cities to visit are : {x.position} \\n')\n",
    "\n",
    "perm = x.Solve()[0]\n",
    "print(f'The sequence of the traveled cities is : {perm} \\n')\n",
    "\n",
    "cout = x.Cost()\n",
    "print(f'The total distance traveled is {cout}\\n')\n",
    "\n",
    "draw = x.dessine_tour()\n",
    "print(f'The drawing of the route is as follows {draw} \\n')"
   ]
  }
 ],
 "metadata": {
  "kernelspec": {
   "display_name": "Python 3",
   "language": "python",
   "name": "python3"
  },
  "language_info": {
   "codemirror_mode": {
    "name": "ipython",
    "version": 3
   },
   "file_extension": ".py",
   "mimetype": "text/x-python",
   "name": "python",
   "nbconvert_exporter": "python",
   "pygments_lexer": "ipython3",
   "version": "3.8.5"
  }
 },
 "nbformat": 4,
 "nbformat_minor": 5
}

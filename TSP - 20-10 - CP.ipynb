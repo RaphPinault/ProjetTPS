{
  "metadata": {
    "kernelspec": {
      "name": "python",
      "display_name": "Python (Pyodide)",
      "language": "python"
    },
    "language_info": {
      "codemirror_mode": {
        "name": "python",
        "version": 3
      },
      "file_extension": ".py",
      "mimetype": "text/x-python",
      "name": "python",
      "nbconvert_exporter": "python",
      "pygments_lexer": "ipython3",
      "version": "3.8"
    }
  },
  "nbformat_minor": 5,
  "nbformat": 4,
  "cells": [
    {
      "cell_type": "code",
      "source": "# projet TSP",
      "metadata": {},
      "execution_count": null,
      "outputs": [],
      "id": "d13f4715"
    },
    {
      "cell_type": "code",
      "source": "import numpy as np\nfrom scipy.spatial.distance import cdist\nimport matplotlib.pyplot as plt",
      "metadata": {
        "trusted": true
      },
      "execution_count": 7,
      "outputs": [],
      "id": "5abc73d8"
    },
    {
      "cell_type": "code",
      "source": "nbville = 5\nposition = np.random.uniform(0, 1, size=(nbville,2))\nprint(position)\n\nplt.plot(position[:, 0], position[:, 1], 'o')\nfor i, txt in enumerate(range(0, nbville)):\n    plt.annotate(txt, (position[i, 0], position[i, 1]), textcoords=\"offset points\", xytext=(0, 10), ha='center')",
      "metadata": {
        "trusted": true
      },
      "execution_count": 18,
      "outputs": [
        {
          "name": "stdout",
          "text": "[[0.67038143 0.42506053]\n [0.75601642 0.45480965]\n [0.43486604 0.18844143]\n [0.64330945 0.62777133]\n [0.66535186 0.54410905]]\n",
          "output_type": "stream"
        },
        {
          "output_type": "display_data",
          "data": {
            "text/plain": "<Figure size 640x480 with 1 Axes>",
            "image/png": "[encoded data removed]"
          },
          "metadata": {}
        }
      ],
      "id": "2dcbc85e"
    },
    {
      "cell_type": "code",
      "source": "class SolverTSP:\n    def __init__(self, position):\n        self.position = position\n        self.distance = cdist(position,position)\n        #def Cost(self, perm):\n    def Solve(self):\n        # permutation optimale\n        actuel = 0\n        ppv = [actuel] # prochain point de vente\n        cout = []\n        for i in range(0,nbville-1):\n            selection = min(np.delete(x.distance[ppv[-1]],ppv))\n            cout.append(selection)\n            ppv.append(np.where(x.distance[ppv[-1]] == selection)[0][0])\n        \n        return(ppv)",
      "metadata": {
        "trusted": true
      },
      "execution_count": 19,
      "outputs": [],
      "id": "641e9b9d"
    },
    {
      "cell_type": "code",
      "source": "x = SolverTSP(position)\nprint(x.distance)\nprint(x.position)\n\nperm = x.Solve()\nprint(perm)",
      "metadata": {
        "trusted": true
      },
      "execution_count": 24,
      "outputs": [
        {
          "name": "stdout",
          "text": "[[0.         0.09065518 0.33385041 0.20451054 0.11915472]\n [0.09065518 0.         0.41724045 0.20644274 0.1272574 ]\n [0.33385041 0.41724045 0.         0.48627093 0.42381973]\n [0.20451054 0.20644274 0.48627093 0.         0.08651731]\n [0.11915472 0.1272574  0.42381973 0.08651731 0.        ]]\n[[0.67038143 0.42506053]\n [0.75601642 0.45480965]\n [0.43486604 0.18844143]\n [0.64330945 0.62777133]\n [0.66535186 0.54410905]]\n[0, 1, 4, 3, 2]\n",
          "output_type": "stream"
        }
      ],
      "id": "7db84d5e"
    },
    {
      "cell_type": "code",
      "source": "        actuel = 0\n        ppv = [actuel] # prochain point de vente\n        cout = []\n        \n# code raph",
      "metadata": {},
      "execution_count": 108,
      "outputs": [],
      "id": "653ad033"
    },
    {
      "cell_type": "code",
      "source": "\n            selection = min(np.delete(x.distance[ppv[-1]],ppv))\n            cout.append(selection)\n            ppv.append(np.where(x.distance[ppv[-1]] == selection)[0][0])\n            \n# code raph",
      "metadata": {},
      "execution_count": 115,
      "outputs": [],
      "id": "26229be9"
    },
    {
      "cell_type": "code",
      "source": "cout",
      "metadata": {},
      "execution_count": 122,
      "outputs": [
        {
          "execution_count": 122,
          "output_type": "execute_result",
          "data": {
            "text/plain": [
              "[0.34122262143787185, 0.531760876906867, 0.647766497925359, 0.7110921524933452]"
            ]
          },
          "metadata": {}
        }
      ],
      "id": "73be4092"
    },
    {
      "cell_type": "code",
      "source": "position[perm,0]",
      "metadata": {
        "trusted": true
      },
      "execution_count": 33,
      "outputs": [
        {
          "execution_count": 33,
          "output_type": "execute_result",
          "data": {
            "text/plain": "array([0.67038143, 0.75601642, 0.66535186, 0.64330945, 0.43486604])"
          },
          "metadata": {}
        }
      ],
      "id": "379d1399-c9f6-4522-80a6-98f9b94a56f7"
    },
    {
      "cell_type": "code",
      "source": "def dessine_tour(villes, permutations):\n    fig, ax = plt.subplots(1, 1, figsize=(4, 4))\n    ax.plot(villes[permutations, 0], villes[permutations, 1], 'b-o') #trâce tous les (x, y) dans l'ordre des permutations\n    ax.plot([villes[permutations[0], 0], villes[permutations[-1], 0]],\n            [villes[permutations[0], 1], villes[permutations[-1], 1]], 'b-o') # ajoute la ligne entre la 1ère et dernière ligne\n    for i, txt in enumerate(range(0, len(villes))):\n        ax.annotate(txt, (villes[permutations[i], 0], villes[permutations[i], 1]), textcoords=\"offset points\", xytext=(0, 10), ha='center')\n    return ax\n\ndessine_tour(position, perm);",
      "metadata": {
        "trusted": true
      },
      "execution_count": 34,
      "outputs": [
        {
          "output_type": "display_data",
          "data": {
            "text/plain": "<Figure size 400x400 with 1 Axes>",
            "image/png": "[encoded data removed]"
          },
          "metadata": {}
        }
      ],
      "id": "84a3f692"
    },
    {
      "cell_type": "code",
      "source": "",
      "metadata": {},
      "execution_count": 75,
      "outputs": [
        {
          "execution_count": 75,
          "output_type": "execute_result",
          "data": {
            "text/plain": [
              "[0]"
            ]
          },
          "metadata": {}
        }
      ],
      "id": "e736ae17"
    },
    {
      "cell_type": "code",
      "source": "",
      "metadata": {},
      "execution_count": 76,
      "outputs": [
        {
          "name": "stdout",
          "output_type": "stream",
          "text": "0.34122262143787185\n"
        }
      ],
      "id": "184b8689"
    },
    {
      "cell_type": "code",
      "source": "",
      "metadata": {},
      "execution_count": 72,
      "outputs": [
        {
          "execution_count": 72,
          "output_type": "execute_result",
          "data": {
            "text/plain": [
              "[0.34122262143787185]"
            ]
          },
          "metadata": {}
        }
      ],
      "id": "525c62ff"
    },
    {
      "cell_type": "code",
      "source": "",
      "metadata": {},
      "execution_count": 90,
      "outputs": [
        {
          "execution_count": 90,
          "output_type": "execute_result",
          "data": {
            "text/plain": [
              "0"
            ]
          },
          "metadata": {}
        }
      ],
      "id": "151804d0"
    },
    {
      "cell_type": "code",
      "source": "",
      "metadata": {},
      "execution_count": null,
      "outputs": [],
      "id": "873e8a6b"
    },
    {
      "cell_type": "code",
      "source": "",
      "metadata": {},
      "execution_count": null,
      "outputs": [],
      "id": "4a050328"
    },
    {
      "cell_type": "code",
      "source": "",
      "metadata": {},
      "execution_count": 49,
      "outputs": [
        {
          "execution_count": 49,
          "output_type": "execute_result",
          "data": {
            "text/plain": [
              "(array([0], dtype=int64), array([0], dtype=int64))"
            ]
          },
          "metadata": {}
        }
      ],
      "id": "38335193"
    },
    {
      "cell_type": "code",
      "source": "",
      "metadata": {},
      "execution_count": 33,
      "outputs": [
        {
          "execution_count": 33,
          "output_type": "execute_result",
          "data": {
            "text/plain": [
              "array([1.12504939, 0.95853334, 0.34122262])"
            ]
          },
          "metadata": {}
        }
      ],
      "id": "a092fcc7"
    },
    {
      "cell_type": "markdown",
      "source": "# test",
      "metadata": {},
      "id": "e4b6a942"
    },
    {
      "cell_type": "code",
      "source": "# With properties\nmy_line = plt.plot([0, 5, 10, 15], [17, 8, 42, 5],\n    color='green',\n    linestyle='dashed',\n    marker='o',\n    markerfacecolor='blue',\n    markersize=12\n)\n\n# Change some properties\nplt.setp(my_line, 'color', 'red', 'linewidth', 2.0)\n\n# With more than one line, a list is returned\nmy_lines = plt.plot(\n    [15, 3, 1, 5], [42, 17, 8, 5], 'rs',\n    [0, 5, 10, 15], [42, 17, 8, 5], 'go-.'\n)\n\nplt.setp(my_lines[0], 'color', 'cyan')\nplt.setp(my_lines[1], 'marker', 'D');",
      "metadata": {},
      "execution_count": 24,
      "outputs": [
        {
          "execution_count": 24,
          "output_type": "execute_result",
          "data": {
            "text/plain": [
              "range(0, 5)"
            ]
          },
          "metadata": {}
        }
      ],
      "id": "26f47eb1"
    },
    {
      "cell_type": "code",
      "source": "ppv = []\nppv.append(0)\nppv.append(4)\n",
      "metadata": {},
      "execution_count": 52,
      "outputs": [],
      "id": "fc1c3514"
    },
    {
      "cell_type": "code",
      "source": "ppv",
      "metadata": {},
      "execution_count": 53,
      "outputs": [
        {
          "execution_count": 53,
          "output_type": "execute_result",
          "data": {
            "text/plain": [
              "[0, 4]"
            ]
          },
          "metadata": {}
        }
      ],
      "id": "f4ee63db"
    },
    {
      "cell_type": "code",
      "source": "min(np.delete(distance[4],ppv))",
      "metadata": {},
      "execution_count": 54,
      "outputs": [
        {
          "execution_count": 54,
          "output_type": "execute_result",
          "data": {
            "text/plain": [
              "0.30360116858834657"
            ]
          },
          "metadata": {}
        }
      ],
      "id": "b6a5fe5b"
    },
    {
      "cell_type": "code",
      "source": "np.delete(distance[0],0).index(min(np.delete(distance[0],0)))",
      "metadata": {},
      "execution_count": 40,
      "outputs": [
        {
          "ename": "AttributeError",
          "evalue": "'numpy.ndarray' object has no attribute 'index'",
          "output_type": "error",
          "traceback": [
            "\u001b[1;31m---------------------------------------------------------------------------\u001b[0m",
            "\u001b[1;31mAttributeError\u001b[0m                            Traceback (most recent call last)",
            "Cell \u001b[1;32mIn[40], line 1\u001b[0m\n\u001b[1;32m----> 1\u001b[0m \u001b[43mnp\u001b[49m\u001b[38;5;241;43m.\u001b[39;49m\u001b[43mdelete\u001b[49m\u001b[43m(\u001b[49m\u001b[43mdistance\u001b[49m\u001b[43m[\u001b[49m\u001b[38;5;241;43m0\u001b[39;49m\u001b[43m]\u001b[49m\u001b[43m,\u001b[49m\u001b[38;5;241;43m0\u001b[39;49m\u001b[43m)\u001b[49m\u001b[38;5;241;43m.\u001b[39;49m\u001b[43mindex\u001b[49m(\u001b[38;5;28mmin\u001b[39m(np\u001b[38;5;241m.\u001b[39mdelete(distance[\u001b[38;5;241m0\u001b[39m],\u001b[38;5;241m0\u001b[39m)))\n",
            "\u001b[1;31mAttributeError\u001b[0m: 'numpy.ndarray' object has no attribute 'index'"
          ]
        }
      ],
      "id": "f077dc13"
    },
    {
      "cell_type": "code",
      "source": "t = ",
      "metadata": {},
      "execution_count": 46,
      "outputs": [],
      "id": "889a3efb"
    },
    {
      "cell_type": "code",
      "source": "",
      "metadata": {},
      "execution_count": 47,
      "outputs": [
        {
          "execution_count": 47,
          "output_type": "execute_result",
          "data": {
            "text/plain": [
              "(array([4], dtype=int64),)"
            ]
          },
          "metadata": {}
        }
      ],
      "id": "d45f1edc"
    }
  ]
}
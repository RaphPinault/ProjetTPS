{
 "cells": [
  {
   "cell_type": "code",
   "execution_count": null,
   "id": "d13f4715",
   "metadata": {},
   "outputs": [],
   "source": [
    "# projet TSP"
   ]
  },
  {
   "cell_type": "code",
   "execution_count": 1,
   "id": "5abc73d8",
   "metadata": {},
   "outputs": [],
   "source": [
    "import numpy as np\n",
    "from scipy.spatial.distance import cdist"
   ]
  },
  {
   "cell_type": "code",
   "execution_count": 2,
   "id": "2dcbc85e",
   "metadata": {},
   "outputs": [],
   "source": [
    "nbville = 5\n",
    "position = np.random.uniform(0, 1, size=(nbville,2))"
   ]
  },
  {
   "cell_type": "code",
   "execution_count": 120,
   "id": "641e9b9d",
   "metadata": {},
   "outputs": [],
   "source": [
    "class SolverTSP:\n",
    "    def __init__(self, position):\n",
    "        self.position = position\n",
    "        self.distance = cdist(position,position)\n",
    "        #def Cost(self, perm):\n",
    "    def Solve(self):\n",
    "        # permutation optimale\n",
    "        actuel = 0\n",
    "        ppv = [actuel] # prochain point de vente\n",
    "        cout = []\n",
    "        for i in range(0,nbville-1):\n",
    "            selection = min(np.delete(x.distance[ppv[-1]],ppv))\n",
    "            cout.append(selection)\n",
    "            ppv.append(np.where(x.distance[ppv[-1]] == selection)[0][0])\n",
    "        \n",
    "        return(ppv)"
   ]
  },
  {
   "cell_type": "code",
   "execution_count": 118,
   "id": "7db84d5e",
   "metadata": {},
   "outputs": [
    {
     "data": {
      "text/plain": [
       "array([[0.76238793, 0.98173666],\n",
       "       [0.18149736, 0.01825221],\n",
       "       [0.89245527, 0.03206901],\n",
       "       [0.7085792 , 0.6447834 ],\n",
       "       [0.17724194, 0.66600473]])"
      ]
     },
     "execution_count": 118,
     "metadata": {},
     "output_type": "execute_result"
    }
   ],
   "source": [
    "x = SolverTSP(position)\n",
    "x.distance\n",
    "x.position"
   ]
  },
  {
   "cell_type": "code",
   "execution_count": 123,
   "id": "c2df713e",
   "metadata": {},
   "outputs": [],
   "source": [
    "x = SolverTSP(position)\n",
    "perm = x.Solve()\n",
    "\n",
    "# cout = "
   ]
  },
  {
   "cell_type": "code",
   "execution_count": 108,
   "id": "653ad033",
   "metadata": {},
   "outputs": [],
   "source": [
    "        actuel = 0\n",
    "        ppv = [actuel] # prochain point de vente\n",
    "        cout = []\n",
    "        \n"
   ]
  },
  {
   "cell_type": "code",
   "execution_count": 115,
   "id": "26229be9",
   "metadata": {},
   "outputs": [],
   "source": [
    "\n",
    "            selection = min(np.delete(x.distance[ppv[-1]],ppv))\n",
    "            cout.append(selection)\n",
    "            ppv.append(np.where(x.distance[ppv[-1]] == selection)[0][0])\n",
    "            "
   ]
  },
  {
   "cell_type": "code",
   "execution_count": 122,
   "id": "73be4092",
   "metadata": {},
   "outputs": [
    {
     "data": {
      "text/plain": [
       "[0.34122262143787185, 0.531760876906867, 0.647766497925359, 0.7110921524933452]"
      ]
     },
     "execution_count": 122,
     "metadata": {},
     "output_type": "execute_result"
    }
   ],
   "source": [
    "cout"
   ]
  },
  {
   "cell_type": "code",
   "execution_count": 37,
   "id": "84a3f692",
   "metadata": {},
   "outputs": [
    {
     "ename": "IndexError",
     "evalue": "arrays used as indices must be of integer (or boolean) type",
     "output_type": "error",
     "traceback": [
      "\u001b[1;31m---------------------------------------------------------------------------\u001b[0m",
      "\u001b[1;31mIndexError\u001b[0m                                Traceback (most recent call last)",
      "Cell \u001b[1;32mIn[37], line 1\u001b[0m\n\u001b[1;32m----> 1\u001b[0m \u001b[43mnp\u001b[49m\u001b[38;5;241;43m.\u001b[39;49m\u001b[43mdelete\u001b[49m\u001b[43m(\u001b[49m\u001b[43mx\u001b[49m\u001b[38;5;241;43m.\u001b[39;49m\u001b[43mdistance\u001b[49m\u001b[43m[\u001b[49m\u001b[43mactuel\u001b[49m\u001b[43m]\u001b[49m\u001b[43m,\u001b[49m\u001b[43mppv\u001b[49m\u001b[43m)\u001b[49m\n",
      "File \u001b[1;32m<__array_function__ internals>:180\u001b[0m, in \u001b[0;36mdelete\u001b[1;34m(*args, **kwargs)\u001b[0m\n",
      "File \u001b[1;32m~\\anaconda3\\lib\\site-packages\\numpy\\lib\\function_base.py:5180\u001b[0m, in \u001b[0;36mdelete\u001b[1;34m(arr, obj, axis)\u001b[0m\n\u001b[0;32m   5178\u001b[0m \u001b[38;5;28;01melse\u001b[39;00m:\n\u001b[0;32m   5179\u001b[0m     keep \u001b[38;5;241m=\u001b[39m ones(N, dtype\u001b[38;5;241m=\u001b[39m\u001b[38;5;28mbool\u001b[39m)\n\u001b[1;32m-> 5180\u001b[0m     keep[obj,] \u001b[38;5;241m=\u001b[39m \u001b[38;5;28;01mFalse\u001b[39;00m\n\u001b[0;32m   5182\u001b[0m slobj[axis] \u001b[38;5;241m=\u001b[39m keep\n\u001b[0;32m   5183\u001b[0m new \u001b[38;5;241m=\u001b[39m arr[\u001b[38;5;28mtuple\u001b[39m(slobj)]\n",
      "\u001b[1;31mIndexError\u001b[0m: arrays used as indices must be of integer (or boolean) type"
     ]
    }
   ],
   "source": []
  },
  {
   "cell_type": "code",
   "execution_count": 75,
   "id": "e736ae17",
   "metadata": {},
   "outputs": [
    {
     "data": {
      "text/plain": [
       "[0]"
      ]
     },
     "execution_count": 75,
     "metadata": {},
     "output_type": "execute_result"
    }
   ],
   "source": []
  },
  {
   "cell_type": "code",
   "execution_count": 76,
   "id": "184b8689",
   "metadata": {},
   "outputs": [
    {
     "name": "stdout",
     "output_type": "stream",
     "text": [
      "0.34122262143787185\n"
     ]
    }
   ],
   "source": []
  },
  {
   "cell_type": "code",
   "execution_count": 72,
   "id": "525c62ff",
   "metadata": {},
   "outputs": [
    {
     "data": {
      "text/plain": [
       "[0.34122262143787185]"
      ]
     },
     "execution_count": 72,
     "metadata": {},
     "output_type": "execute_result"
    }
   ],
   "source": []
  },
  {
   "cell_type": "code",
   "execution_count": 90,
   "id": "151804d0",
   "metadata": {},
   "outputs": [
    {
     "data": {
      "text/plain": [
       "0"
      ]
     },
     "execution_count": 90,
     "metadata": {},
     "output_type": "execute_result"
    }
   ],
   "source": []
  },
  {
   "cell_type": "code",
   "execution_count": null,
   "id": "873e8a6b",
   "metadata": {},
   "outputs": [],
   "source": []
  },
  {
   "cell_type": "code",
   "execution_count": null,
   "id": "4a050328",
   "metadata": {},
   "outputs": [],
   "source": []
  },
  {
   "cell_type": "code",
   "execution_count": 49,
   "id": "38335193",
   "metadata": {},
   "outputs": [
    {
     "data": {
      "text/plain": [
       "(array([0], dtype=int64), array([0], dtype=int64))"
      ]
     },
     "execution_count": 49,
     "metadata": {},
     "output_type": "execute_result"
    }
   ],
   "source": []
  },
  {
   "cell_type": "code",
   "execution_count": 33,
   "id": "a092fcc7",
   "metadata": {},
   "outputs": [
    {
     "data": {
      "text/plain": [
       "array([1.12504939, 0.95853334, 0.34122262])"
      ]
     },
     "execution_count": 33,
     "metadata": {},
     "output_type": "execute_result"
    }
   ],
   "source": []
  },
  {
   "cell_type": "markdown",
   "id": "e4b6a942",
   "metadata": {},
   "source": [
    "# test"
   ]
  },
  {
   "cell_type": "code",
   "execution_count": 24,
   "id": "26f47eb1",
   "metadata": {},
   "outputs": [
    {
     "data": {
      "text/plain": [
       "range(0, 5)"
      ]
     },
     "execution_count": 24,
     "metadata": {},
     "output_type": "execute_result"
    }
   ],
   "source": [
    "# With properties\n",
    "my_line = plt.plot([0, 5, 10, 15], [17, 8, 42, 5],\n",
    "    color='green',\n",
    "    linestyle='dashed',\n",
    "    marker='o',\n",
    "    markerfacecolor='blue',\n",
    "    markersize=12\n",
    ")\n",
    "\n",
    "# Change some properties\n",
    "plt.setp(my_line, 'color', 'red', 'linewidth', 2.0)\n",
    "\n",
    "# With more than one line, a list is returned\n",
    "my_lines = plt.plot(\n",
    "    [15, 3, 1, 5], [42, 17, 8, 5], 'rs',\n",
    "    [0, 5, 10, 15], [42, 17, 8, 5], 'go-.'\n",
    ")\n",
    "\n",
    "plt.setp(my_lines[0], 'color', 'cyan')\n",
    "plt.setp(my_lines[1], 'marker', 'D');"
   ]
  },
  {
   "cell_type": "code",
   "execution_count": 52,
   "id": "fc1c3514",
   "metadata": {},
   "outputs": [],
   "source": [
    "ppv = []\n",
    "ppv.append(0)\n",
    "ppv.append(4)\n"
   ]
  },
  {
   "cell_type": "code",
   "execution_count": 53,
   "id": "f4ee63db",
   "metadata": {},
   "outputs": [
    {
     "data": {
      "text/plain": [
       "[0, 4]"
      ]
     },
     "execution_count": 53,
     "metadata": {},
     "output_type": "execute_result"
    }
   ],
   "source": [
    "ppv"
   ]
  },
  {
   "cell_type": "code",
   "execution_count": 54,
   "id": "b6a5fe5b",
   "metadata": {},
   "outputs": [
    {
     "data": {
      "text/plain": [
       "0.30360116858834657"
      ]
     },
     "execution_count": 54,
     "metadata": {},
     "output_type": "execute_result"
    }
   ],
   "source": [
    "min(np.delete(distance[4],ppv))"
   ]
  },
  {
   "cell_type": "code",
   "execution_count": 40,
   "id": "f077dc13",
   "metadata": {},
   "outputs": [
    {
     "ename": "AttributeError",
     "evalue": "'numpy.ndarray' object has no attribute 'index'",
     "output_type": "error",
     "traceback": [
      "\u001b[1;31m---------------------------------------------------------------------------\u001b[0m",
      "\u001b[1;31mAttributeError\u001b[0m                            Traceback (most recent call last)",
      "Cell \u001b[1;32mIn[40], line 1\u001b[0m\n\u001b[1;32m----> 1\u001b[0m \u001b[43mnp\u001b[49m\u001b[38;5;241;43m.\u001b[39;49m\u001b[43mdelete\u001b[49m\u001b[43m(\u001b[49m\u001b[43mdistance\u001b[49m\u001b[43m[\u001b[49m\u001b[38;5;241;43m0\u001b[39;49m\u001b[43m]\u001b[49m\u001b[43m,\u001b[49m\u001b[38;5;241;43m0\u001b[39;49m\u001b[43m)\u001b[49m\u001b[38;5;241;43m.\u001b[39;49m\u001b[43mindex\u001b[49m(\u001b[38;5;28mmin\u001b[39m(np\u001b[38;5;241m.\u001b[39mdelete(distance[\u001b[38;5;241m0\u001b[39m],\u001b[38;5;241m0\u001b[39m)))\n",
      "\u001b[1;31mAttributeError\u001b[0m: 'numpy.ndarray' object has no attribute 'index'"
     ]
    }
   ],
   "source": [
    "np.delete(distance[0],0).index(min(np.delete(distance[0],0)))"
   ]
  },
  {
   "cell_type": "code",
   "execution_count": 46,
   "id": "889a3efb",
   "metadata": {},
   "outputs": [],
   "source": [
    "t = "
   ]
  },
  {
   "cell_type": "code",
   "execution_count": 47,
   "id": "d45f1edc",
   "metadata": {},
   "outputs": [
    {
     "data": {
      "text/plain": [
       "(array([4], dtype=int64),)"
      ]
     },
     "execution_count": 47,
     "metadata": {},
     "output_type": "execute_result"
    }
   ],
   "source": []
  }
 ],
 "metadata": {
  "kernelspec": {
   "display_name": "Python 3 (ipykernel)",
   "language": "python",
   "name": "python3"
  },
  "language_info": {
   "codemirror_mode": {
    "name": "ipython",
    "version": 3
   },
   "file_extension": ".py",
   "mimetype": "text/x-python",
   "name": "python",
   "nbconvert_exporter": "python",
   "pygments_lexer": "ipython3",
   "version": "3.8.8"
  }
 },
 "nbformat": 4,
 "nbformat_minor": 5
}

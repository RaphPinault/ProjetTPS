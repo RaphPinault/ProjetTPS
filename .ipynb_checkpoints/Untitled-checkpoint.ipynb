{
 "cells": [
  {
   "cell_type": "code",
   "execution_count": null,
   "id": "d13f4715",
   "metadata": {},
   "outputs": [],
   "source": [
    "# projet TSP"
   ]
  },
  {
   "cell_type": "code",
   "execution_count": 21,
   "id": "5abc73d8",
   "metadata": {},
   "outputs": [],
   "source": [
    "import numpy as np\n",
    "from scipy.spatial.distance import cdist\n"
   ]
  },
  {
   "cell_type": "code",
   "execution_count": 17,
   "id": "2dcbc85e",
   "metadata": {},
   "outputs": [],
   "source": [
    "nbville = 5\n",
    "\n",
    "position = np.random.uniform(0, 1, size=(nbville,2))"
   ]
  },
  {
   "cell_type": "code",
   "execution_count": 65,
   "id": "641e9b9d",
   "metadata": {},
   "outputs": [],
   "source": [
    "class SolverTSP:\n",
    "\n",
    "    def __init__(self, position):\n",
    "        self.position = position\n",
    "        self.distance = cdist(position,position)\n",
    "        \n",
    "    #def Cost(self, perm):\n",
    "        \n",
    "\n",
    "    def Solve(self):\n",
    "        # permutation optimale\n",
    "        actuel = 0\n",
    "        ppv = []\n",
    "        cout = []\n",
    "        for i in range(0,nbville):\n",
    "            ppv.append(actuel)\n",
    "            selection = min(np.delete(distance[actuel],ppv))\n",
    "            cout.append(selection)\n",
    "            actuel = np.where(distance[actuel] == selection)\n",
    "        return(ppv)\n",
    "            \n",
    "            \n",
    "            \n",
    "        "
   ]
  },
  {
   "cell_type": "code",
   "execution_count": 66,
   "id": "7db84d5e",
   "metadata": {},
   "outputs": [
    {
     "ename": "AttributeError",
     "evalue": "'SolverTSP' object has no attribute 'self'",
     "output_type": "error",
     "traceback": [
      "\u001b[1;31m---------------------------------------------------------------------------\u001b[0m",
      "\u001b[1;31mAttributeError\u001b[0m                            Traceback (most recent call last)",
      "Cell \u001b[1;32mIn[66], line 2\u001b[0m\n\u001b[0;32m      1\u001b[0m x\u001b[38;5;241m=\u001b[39mSolverTSP(position)\n\u001b[1;32m----> 2\u001b[0m \u001b[43mx\u001b[49m\u001b[38;5;241;43m.\u001b[39;49m\u001b[43mself\u001b[49m\n",
      "\u001b[1;31mAttributeError\u001b[0m: 'SolverTSP' object has no attribute 'self'"
     ]
    }
   ],
   "source": [
    "x=SolverTSP(position)\n",
    "x.self"
   ]
  },
  {
   "cell_type": "code",
   "execution_count": 24,
   "id": "26f47eb1",
   "metadata": {},
   "outputs": [
    {
     "data": {
      "text/plain": [
       "range(0, 5)"
      ]
     },
     "execution_count": 24,
     "metadata": {},
     "output_type": "execute_result"
    }
   ],
   "source": [
    "# With properties\n",
    "my_line = plt.plot([0, 5, 10, 15], [17, 8, 42, 5],\n",
    "    color='green',\n",
    "    linestyle='dashed',\n",
    "    marker='o',\n",
    "    markerfacecolor='blue',\n",
    "    markersize=12\n",
    ")\n",
    "\n",
    "# Change some properties\n",
    "plt.setp(my_line, 'color', 'red', 'linewidth', 2.0)\n",
    "\n",
    "# With more than one line, a list is returned\n",
    "my_lines = plt.plot(\n",
    "    [15, 3, 1, 5], [42, 17, 8, 5], 'rs',\n",
    "    [0, 5, 10, 15], [42, 17, 8, 5], 'go-.'\n",
    ")\n",
    "\n",
    "plt.setp(my_lines[0], 'color', 'cyan')\n",
    "plt.setp(my_lines[1], 'marker', 'D');"
   ]
  },
  {
   "cell_type": "code",
   "execution_count": 52,
   "id": "fc1c3514",
   "metadata": {},
   "outputs": [],
   "source": [
    "ppv = []\n",
    "ppv.append(0)\n",
    "ppv.append(4)\n"
   ]
  },
  {
   "cell_type": "code",
   "execution_count": 53,
   "id": "f4ee63db",
   "metadata": {},
   "outputs": [
    {
     "data": {
      "text/plain": [
       "[0, 4]"
      ]
     },
     "execution_count": 53,
     "metadata": {},
     "output_type": "execute_result"
    }
   ],
   "source": [
    "ppv"
   ]
  },
  {
   "cell_type": "code",
   "execution_count": 54,
   "id": "b6a5fe5b",
   "metadata": {},
   "outputs": [
    {
     "data": {
      "text/plain": [
       "0.30360116858834657"
      ]
     },
     "execution_count": 54,
     "metadata": {},
     "output_type": "execute_result"
    }
   ],
   "source": [
    "min(np.delete(distance[4],ppv))"
   ]
  },
  {
   "cell_type": "code",
   "execution_count": 40,
   "id": "f077dc13",
   "metadata": {},
   "outputs": [
    {
     "ename": "AttributeError",
     "evalue": "'numpy.ndarray' object has no attribute 'index'",
     "output_type": "error",
     "traceback": [
      "\u001b[1;31m---------------------------------------------------------------------------\u001b[0m",
      "\u001b[1;31mAttributeError\u001b[0m                            Traceback (most recent call last)",
      "Cell \u001b[1;32mIn[40], line 1\u001b[0m\n\u001b[1;32m----> 1\u001b[0m \u001b[43mnp\u001b[49m\u001b[38;5;241;43m.\u001b[39;49m\u001b[43mdelete\u001b[49m\u001b[43m(\u001b[49m\u001b[43mdistance\u001b[49m\u001b[43m[\u001b[49m\u001b[38;5;241;43m0\u001b[39;49m\u001b[43m]\u001b[49m\u001b[43m,\u001b[49m\u001b[38;5;241;43m0\u001b[39;49m\u001b[43m)\u001b[49m\u001b[38;5;241;43m.\u001b[39;49m\u001b[43mindex\u001b[49m(\u001b[38;5;28mmin\u001b[39m(np\u001b[38;5;241m.\u001b[39mdelete(distance[\u001b[38;5;241m0\u001b[39m],\u001b[38;5;241m0\u001b[39m)))\n",
      "\u001b[1;31mAttributeError\u001b[0m: 'numpy.ndarray' object has no attribute 'index'"
     ]
    }
   ],
   "source": [
    "np.delete(distance[0],0).index(min(np.delete(distance[0],0)))"
   ]
  },
  {
   "cell_type": "code",
   "execution_count": 46,
   "id": "889a3efb",
   "metadata": {},
   "outputs": [],
   "source": [
    "t = "
   ]
  },
  {
   "cell_type": "code",
   "execution_count": 47,
   "id": "d45f1edc",
   "metadata": {},
   "outputs": [
    {
     "data": {
      "text/plain": [
       "(array([4], dtype=int64),)"
      ]
     },
     "execution_count": 47,
     "metadata": {},
     "output_type": "execute_result"
    }
   ],
   "source": []
  }
 ],
 "metadata": {
  "kernelspec": {
   "display_name": "Python 3 (ipykernel)",
   "language": "python",
   "name": "python3"
  },
  "language_info": {
   "codemirror_mode": {
    "name": "ipython",
    "version": 3
   },
   "file_extension": ".py",
   "mimetype": "text/x-python",
   "name": "python",
   "nbconvert_exporter": "python",
   "pygments_lexer": "ipython3",
   "version": "3.10.9"
  }
 },
 "nbformat": 4,
 "nbformat_minor": 5
}
